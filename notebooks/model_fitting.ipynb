{
 "cells": [
  {
   "cell_type": "code",
   "execution_count": 770,
   "metadata": {},
   "outputs": [],
   "source": [
    "import pandas as pd\n",
    "import numpy as np\n",
    "import networkx as nx\n",
    "from sklearn.linear_model import LinearRegression, Lasso, Ridge\n",
    "from sklearn.ensemble import GradientBoostingRegressor, RandomForestRegressor\n",
    "from sklearn.model_selection import train_test_split\n",
    "from sklearn.metrics import mean_squared_error, r2_score\n",
    "from sklearn.preprocessing import StandardScaler\n",
    "from events import events\n",
    "%matplotlib inline"
   ]
  },
  {
   "cell_type": "code",
   "execution_count": 771,
   "metadata": {},
   "outputs": [],
   "source": [
    "repos = pd.read_csv('../data/processed/2015-01-01/repos_2015-01-02.csv')"
   ]
  },
  {
   "cell_type": "code",
   "execution_count": 772,
   "metadata": {},
   "outputs": [
    {
     "data": {
      "text/html": [
       "<div>\n",
       "<style scoped>\n",
       "    .dataframe tbody tr th:only-of-type {\n",
       "        vertical-align: middle;\n",
       "    }\n",
       "\n",
       "    .dataframe tbody tr th {\n",
       "        vertical-align: top;\n",
       "    }\n",
       "\n",
       "    .dataframe thead th {\n",
       "        text-align: right;\n",
       "    }\n",
       "</style>\n",
       "<table border=\"1\" class=\"dataframe\">\n",
       "  <thead>\n",
       "    <tr style=\"text-align: right;\">\n",
       "      <th></th>\n",
       "      <th>repo_id</th>\n",
       "      <th>repo_name</th>\n",
       "      <th>CheckRunEvent</th>\n",
       "      <th>CheckSuiteEvent</th>\n",
       "      <th>CommitCommentEvent</th>\n",
       "      <th>ContentReferenceEvent</th>\n",
       "      <th>CreateEvent</th>\n",
       "      <th>DeleteEvent</th>\n",
       "      <th>DeployKeyEvent</th>\n",
       "      <th>DeploymentEvent</th>\n",
       "      <th>...</th>\n",
       "      <th>RepositoryEvent</th>\n",
       "      <th>RepositoryImportEvent</th>\n",
       "      <th>RepositoryVulnerabilityAlertEvent</th>\n",
       "      <th>SecurityAdvisoryEvent</th>\n",
       "      <th>StarEvent</th>\n",
       "      <th>StatusEvent</th>\n",
       "      <th>TeamEvent</th>\n",
       "      <th>TeamAddEvent</th>\n",
       "      <th>WatchEvent</th>\n",
       "      <th>WatchEventFuture</th>\n",
       "    </tr>\n",
       "  </thead>\n",
       "  <tbody>\n",
       "    <tr>\n",
       "      <td>0</td>\n",
       "      <td>27</td>\n",
       "      <td>rubinius/rubinius</td>\n",
       "      <td>0.0</td>\n",
       "      <td>0.0</td>\n",
       "      <td>0.0</td>\n",
       "      <td>0.0</td>\n",
       "      <td>0.0</td>\n",
       "      <td>0.0</td>\n",
       "      <td>0.0</td>\n",
       "      <td>0.0</td>\n",
       "      <td>...</td>\n",
       "      <td>0.0</td>\n",
       "      <td>0.0</td>\n",
       "      <td>0.0</td>\n",
       "      <td>0.0</td>\n",
       "      <td>0.0</td>\n",
       "      <td>0.0</td>\n",
       "      <td>0.0</td>\n",
       "      <td>0.0</td>\n",
       "      <td>6.0</td>\n",
       "      <td>1.0</td>\n",
       "    </tr>\n",
       "    <tr>\n",
       "      <td>1</td>\n",
       "      <td>28</td>\n",
       "      <td>mojombo/god</td>\n",
       "      <td>0.0</td>\n",
       "      <td>0.0</td>\n",
       "      <td>0.0</td>\n",
       "      <td>0.0</td>\n",
       "      <td>0.0</td>\n",
       "      <td>0.0</td>\n",
       "      <td>0.0</td>\n",
       "      <td>0.0</td>\n",
       "      <td>...</td>\n",
       "      <td>0.0</td>\n",
       "      <td>0.0</td>\n",
       "      <td>0.0</td>\n",
       "      <td>0.0</td>\n",
       "      <td>0.0</td>\n",
       "      <td>0.0</td>\n",
       "      <td>0.0</td>\n",
       "      <td>0.0</td>\n",
       "      <td>1.0</td>\n",
       "      <td>0.0</td>\n",
       "    </tr>\n",
       "    <tr>\n",
       "      <td>2</td>\n",
       "      <td>68</td>\n",
       "      <td>macournoyer/thin</td>\n",
       "      <td>0.0</td>\n",
       "      <td>0.0</td>\n",
       "      <td>0.0</td>\n",
       "      <td>0.0</td>\n",
       "      <td>0.0</td>\n",
       "      <td>0.0</td>\n",
       "      <td>0.0</td>\n",
       "      <td>0.0</td>\n",
       "      <td>...</td>\n",
       "      <td>0.0</td>\n",
       "      <td>0.0</td>\n",
       "      <td>0.0</td>\n",
       "      <td>0.0</td>\n",
       "      <td>0.0</td>\n",
       "      <td>0.0</td>\n",
       "      <td>0.0</td>\n",
       "      <td>0.0</td>\n",
       "      <td>1.0</td>\n",
       "      <td>0.0</td>\n",
       "    </tr>\n",
       "    <tr>\n",
       "      <td>3</td>\n",
       "      <td>144</td>\n",
       "      <td>mojombo/chronic</td>\n",
       "      <td>0.0</td>\n",
       "      <td>0.0</td>\n",
       "      <td>0.0</td>\n",
       "      <td>0.0</td>\n",
       "      <td>0.0</td>\n",
       "      <td>0.0</td>\n",
       "      <td>0.0</td>\n",
       "      <td>0.0</td>\n",
       "      <td>...</td>\n",
       "      <td>0.0</td>\n",
       "      <td>0.0</td>\n",
       "      <td>0.0</td>\n",
       "      <td>0.0</td>\n",
       "      <td>0.0</td>\n",
       "      <td>0.0</td>\n",
       "      <td>0.0</td>\n",
       "      <td>0.0</td>\n",
       "      <td>3.0</td>\n",
       "      <td>0.0</td>\n",
       "    </tr>\n",
       "    <tr>\n",
       "      <td>4</td>\n",
       "      <td>426</td>\n",
       "      <td>haml/haml</td>\n",
       "      <td>0.0</td>\n",
       "      <td>0.0</td>\n",
       "      <td>0.0</td>\n",
       "      <td>0.0</td>\n",
       "      <td>0.0</td>\n",
       "      <td>0.0</td>\n",
       "      <td>0.0</td>\n",
       "      <td>0.0</td>\n",
       "      <td>...</td>\n",
       "      <td>0.0</td>\n",
       "      <td>0.0</td>\n",
       "      <td>0.0</td>\n",
       "      <td>0.0</td>\n",
       "      <td>0.0</td>\n",
       "      <td>0.0</td>\n",
       "      <td>0.0</td>\n",
       "      <td>0.0</td>\n",
       "      <td>1.0</td>\n",
       "      <td>3.0</td>\n",
       "    </tr>\n",
       "  </tbody>\n",
       "</table>\n",
       "<p>5 rows × 52 columns</p>\n",
       "</div>"
      ],
      "text/plain": [
       "   repo_id          repo_name  CheckRunEvent  CheckSuiteEvent  \\\n",
       "0       27  rubinius/rubinius            0.0              0.0   \n",
       "1       28        mojombo/god            0.0              0.0   \n",
       "2       68   macournoyer/thin            0.0              0.0   \n",
       "3      144    mojombo/chronic            0.0              0.0   \n",
       "4      426          haml/haml            0.0              0.0   \n",
       "\n",
       "   CommitCommentEvent  ContentReferenceEvent  CreateEvent  DeleteEvent  \\\n",
       "0                 0.0                    0.0          0.0          0.0   \n",
       "1                 0.0                    0.0          0.0          0.0   \n",
       "2                 0.0                    0.0          0.0          0.0   \n",
       "3                 0.0                    0.0          0.0          0.0   \n",
       "4                 0.0                    0.0          0.0          0.0   \n",
       "\n",
       "   DeployKeyEvent  DeploymentEvent  ...  RepositoryEvent  \\\n",
       "0             0.0              0.0  ...              0.0   \n",
       "1             0.0              0.0  ...              0.0   \n",
       "2             0.0              0.0  ...              0.0   \n",
       "3             0.0              0.0  ...              0.0   \n",
       "4             0.0              0.0  ...              0.0   \n",
       "\n",
       "   RepositoryImportEvent  RepositoryVulnerabilityAlertEvent  \\\n",
       "0                    0.0                                0.0   \n",
       "1                    0.0                                0.0   \n",
       "2                    0.0                                0.0   \n",
       "3                    0.0                                0.0   \n",
       "4                    0.0                                0.0   \n",
       "\n",
       "   SecurityAdvisoryEvent  StarEvent  StatusEvent  TeamEvent  TeamAddEvent  \\\n",
       "0                    0.0        0.0          0.0        0.0           0.0   \n",
       "1                    0.0        0.0          0.0        0.0           0.0   \n",
       "2                    0.0        0.0          0.0        0.0           0.0   \n",
       "3                    0.0        0.0          0.0        0.0           0.0   \n",
       "4                    0.0        0.0          0.0        0.0           0.0   \n",
       "\n",
       "   WatchEvent  WatchEventFuture  \n",
       "0         6.0               1.0  \n",
       "1         1.0               0.0  \n",
       "2         1.0               0.0  \n",
       "3         3.0               0.0  \n",
       "4         1.0               3.0  \n",
       "\n",
       "[5 rows x 52 columns]"
      ]
     },
     "execution_count": 772,
     "metadata": {},
     "output_type": "execute_result"
    }
   ],
   "source": [
    "repos.head()"
   ]
  },
  {
   "cell_type": "code",
   "execution_count": 773,
   "metadata": {},
   "outputs": [],
   "source": [
    "triplets = pd.read_csv('../data/processed/2015-01-01/triplets.csv')"
   ]
  },
  {
   "cell_type": "code",
   "execution_count": 774,
   "metadata": {},
   "outputs": [],
   "source": [
    "#Make nx.Graph object for star event\n",
    "#Add edges   \n",
    "G = nx.from_pandas_edgelist(triplets, \n",
    "                            source = 'user_id', \n",
    "                            target = 'repo_id', \n",
    "                            create_using = nx.Graph())\n",
    "\n",
    "#Make node attributes (node_type, name, number of edges)\n",
    "for repo_id in triplets['repo_id'].unique().tolist():\n",
    "    G.add_node(repo_id, node_type = 'repository', name = repos[repos.repo_id == repo_id]['repo_name'].iloc[0])\n",
    "for node in G.nodes:\n",
    "    G.nodes[node]['num_stars'] = G.degree[node]\n"
   ]
  },
  {
   "cell_type": "code",
   "execution_count": 775,
   "metadata": {},
   "outputs": [],
   "source": [
    "eigenvector_centralities = nx.eigenvector_centrality(G)\n",
    "degree_centralities = nx.degree_centrality(G)\n",
    "# betweenness_centralities = nx.betweenness_centrality(G)\n",
    "# closeness_centralities = nx.closeness_centrality(G)\n"
   ]
  },
  {
   "cell_type": "code",
   "execution_count": 776,
   "metadata": {},
   "outputs": [],
   "source": [
    "def get_total_neighbor_centrality(node, centrality_dict):\n",
    "    return np.sum([centrality_dict[neighbor] for neighbor in G.neighbors(node)])"
   ]
  },
  {
   "cell_type": "code",
   "execution_count": 777,
   "metadata": {},
   "outputs": [],
   "source": [
    "repos['eigenvector_centrality'] = repos['repo_id'].apply(lambda x: eigenvector_centralities[x])\n",
    "\n",
    "repos['degree_centrality'] = repos['repo_id'].apply(lambda x: degree_centralities[x])\n",
    "repos['users_total_degree_centrality'] = repos['repo_id'].apply(get_total_neighbor_centrality, args = (degree_centralities, ))\n",
    "\n",
    "# repos['betweenness_centrality'] = repos['repo_id'].apply(lambda x: betweenness_centralities[x])\n",
    "# repos['closeness_centrality'] = repos['repo_id'].apply(lambda x: closeness_centralities[x])"
   ]
  },
  {
   "cell_type": "code",
   "execution_count": 778,
   "metadata": {},
   "outputs": [
    {
     "data": {
      "text/plain": [
       "<matplotlib.axes._subplots.AxesSubplot at 0x140e4c450>"
      ]
     },
     "execution_count": 778,
     "metadata": {},
     "output_type": "execute_result"
    },
    {
     "data": {
      "image/png": "[encoded data removed]",
      "text/plain": [
       "<Figure size 432x288 with 1 Axes>"
      ]
     },
     "metadata": {
      "needs_background": "light"
     },
     "output_type": "display_data"
    }
   ],
   "source": [
    "repos.plot.scatter(x = 'eigenvector_centrality', y =  'WatchEventFuture')"
   ]
  },
  {
   "cell_type": "code",
   "execution_count": 779,
   "metadata": {},
   "outputs": [
    {
     "data": {
      "text/plain": [
       "<matplotlib.axes._subplots.AxesSubplot at 0x15f271ad0>"
      ]
     },
     "execution_count": 779,
     "metadata": {},
     "output_type": "execute_result"
    },
    {
     "data": {
      "image/png": "[encoded data removed]",
      "text/plain": [
       "<Figure size 432x288 with 1 Axes>"
      ]
     },
     "metadata": {
      "needs_background": "light"
     },
     "output_type": "display_data"
    }
   ],
   "source": [
    "repos.plot.scatter(x = 'users_total_degree_centrality', y =  'WatchEventFuture')"
   ]
  },
  {
   "cell_type": "code",
   "execution_count": 780,
   "metadata": {},
   "outputs": [
    {
     "data": {
      "text/plain": [
       "<matplotlib.axes._subplots.AxesSubplot at 0x156fdd490>"
      ]
     },
     "execution_count": 780,
     "metadata": {},
     "output_type": "execute_result"
    },
    {
     "data": {
      "image/png": "[encoded data removed]",
      "text/plain": [
       "<Figure size 432x288 with 1 Axes>"
      ]
     },
     "metadata": {
      "needs_background": "light"
     },
     "output_type": "display_data"
    }
   ],
   "source": [
    "repos.plot.scatter(x = 'degree_centrality', y =  'WatchEventFuture')"
   ]
  },
  {
   "cell_type": "code",
   "execution_count": 781,
   "metadata": {},
   "outputs": [
    {
     "data": {
      "text/plain": [
       "<matplotlib.axes._subplots.AxesSubplot at 0x157245bd0>"
      ]
     },
     "execution_count": 781,
     "metadata": {},
     "output_type": "execute_result"
    },
    {
     "data": {
      "image/png": "[encoded data removed]",
      "text/plain": [
       "<Figure size 432x288 with 1 Axes>"
      ]
     },
     "metadata": {
      "needs_background": "light"
     },
     "output_type": "display_data"
    }
   ],
   "source": [
    "repos.plot.scatter(x = 'WatchEvent', y =  'WatchEventFuture')"
   ]
  },
  {
   "cell_type": "code",
   "execution_count": 782,
   "metadata": {},
   "outputs": [],
   "source": [
    "non_star_events = events.copy()\n",
    "non_star_events.remove('WatchEvent')"
   ]
  },
  {
   "cell_type": "code",
   "execution_count": 799,
   "metadata": {},
   "outputs": [],
   "source": [
    "response = 'WatchEventFuture'\n",
    "features = events + ['eigenvector_centrality', 'degree_centrality', 'users_total_degree_centrality']\n",
    "data = repos"
   ]
  },
  {
   "cell_type": "code",
   "execution_count": 800,
   "metadata": {},
   "outputs": [],
   "source": [
    "train, test = train_test_split(data, random_state = 3)\n",
    "\n",
    "\n",
    "X_train = train[features]\n",
    "y_train = train[response].values\n",
    "X_test = test[features]\n",
    "y_test = test[response].values"
   ]
  },
  {
   "cell_type": "code",
   "execution_count": 801,
   "metadata": {},
   "outputs": [
    {
     "data": {
      "text/plain": [
       "(29.494390138371134, 4.920987448812398)"
      ]
     },
     "execution_count": 801,
     "metadata": {},
     "output_type": "execute_result"
    }
   ],
   "source": [
    "train_mean = y_train.mean()\n",
    "mean_squared_error(y_train, train_mean * np.ones(len(y_train))), mean_squared_error(y_test, train_mean * np.ones(len(y_test)))"
   ]
  },
  {
   "cell_type": "code",
   "execution_count": 802,
   "metadata": {},
   "outputs": [
    {
     "data": {
      "text/plain": [
       "-3.7336541129251444e-05"
      ]
     },
     "execution_count": 802,
     "metadata": {},
     "output_type": "execute_result"
    }
   ],
   "source": [
    "r2_score(y_test, train_mean * np.ones(len(y_test)))"
   ]
  },
  {
   "cell_type": "code",
   "execution_count": 803,
   "metadata": {},
   "outputs": [
    {
     "data": {
      "text/plain": [
       "(22.8749298484727, 1.5472310744994289)"
      ]
     },
     "execution_count": 803,
     "metadata": {},
     "output_type": "execute_result"
    }
   ],
   "source": [
    "#Guess is previous value\n",
    "mean_squared_error(y_train, X_train['WatchEvent']), mean_squared_error(y_test, X_test['WatchEvent'])"
   ]
  },
  {
   "cell_type": "code",
   "execution_count": 804,
   "metadata": {},
   "outputs": [
    {
     "data": {
      "text/plain": [
       "0.6855735035191988"
      ]
     },
     "execution_count": 804,
     "metadata": {},
     "output_type": "execute_result"
    }
   ],
   "source": [
    "r2_score(y_test, X_test['WatchEvent'])"
   ]
  },
  {
   "cell_type": "code",
   "execution_count": 805,
   "metadata": {},
   "outputs": [
    {
     "data": {
      "text/plain": [
       "(22.282396727693694, 2.0252558290840272)"
      ]
     },
     "execution_count": 805,
     "metadata": {},
     "output_type": "execute_result"
    }
   ],
   "source": [
    "ols_model = LinearRegression().fit(X_train, y_train)\n",
    "# ols_model.score(X_test, y_test)\n",
    "mean_squared_error(y_train, ols_model.predict(X_train)), mean_squared_error(y_test, ols_model.predict(X_test))"
   ]
  },
  {
   "cell_type": "code",
   "execution_count": 806,
   "metadata": {},
   "outputs": [
    {
     "data": {
      "text/plain": [
       "0.24452085216350683"
      ]
     },
     "execution_count": 806,
     "metadata": {},
     "output_type": "execute_result"
    }
   ],
   "source": [
    "ols_model.score(X_train, y_train)"
   ]
  },
  {
   "cell_type": "code",
   "execution_count": 807,
   "metadata": {},
   "outputs": [
    {
     "data": {
      "text/plain": [
       "0.588429869777382"
      ]
     },
     "execution_count": 807,
     "metadata": {},
     "output_type": "execute_result"
    }
   ],
   "source": [
    "ols_model.score(X_test, y_test)"
   ]
  },
  {
   "cell_type": "code",
   "execution_count": 808,
   "metadata": {},
   "outputs": [
    {
     "data": {
      "text/plain": [
       "(23.50200201810977, 1.4817583560763832)"
      ]
     },
     "execution_count": 808,
     "metadata": {},
     "output_type": "execute_result"
    }
   ],
   "source": [
    "sc = StandardScaler()\n",
    "X_train_sc = sc.fit_transform(X_train)\n",
    "X_test_sc = sc.transform(X_test)\n",
    "lasso_model = Lasso().fit(X_train_sc, y_train)\n",
    "# ols_model.score(X_test, y_test)\n",
    "mean_squared_error(y_train, lasso_model.predict(X_train_sc)), mean_squared_error(y_test, lasso_model.predict(X_test_sc))"
   ]
  },
  {
   "cell_type": "code",
   "execution_count": 809,
   "metadata": {},
   "outputs": [
    {
     "data": {
      "text/plain": [
       "0.6988787930833271"
      ]
     },
     "execution_count": 809,
     "metadata": {},
     "output_type": "execute_result"
    }
   ],
   "source": [
    "lasso_model.score(X_test_sc, y_test)"
   ]
  },
  {
   "cell_type": "code",
   "execution_count": 812,
   "metadata": {},
   "outputs": [
    {
     "data": {
      "text/plain": [
       "(3.548978347519971, 1.50274893528191)"
      ]
     },
     "execution_count": 812,
     "metadata": {},
     "output_type": "execute_result"
    }
   ],
   "source": [
    "gb_model = GradientBoostingRegressor().fit(X_train, y_train)\n",
    "# gb_model.score(X_test, y_test)\n",
    "mean_squared_error(y_train, gb_model.predict(X_train)), mean_squared_error(y_test, gb_model.predict(X_test))"
   ]
  },
  {
   "cell_type": "code",
   "execution_count": 820,
   "metadata": {},
   "outputs": [
    {
     "name": "stderr",
     "output_type": "stream",
     "text": [
      "/anaconda3/envs/mit/lib/python3.7/site-packages/sklearn/ensemble/forest.py:245: FutureWarning: The default value of n_estimators will change from 10 in version 0.20 to 100 in 0.22.\n",
      "  \"10 in version 0.20 to 100 in 0.22.\", FutureWarning)\n"
     ]
    },
    {
     "data": {
      "text/plain": [
       "(2.581605705220039, 4.3370634513297155)"
      ]
     },
     "execution_count": 820,
     "metadata": {},
     "output_type": "execute_result"
    }
   ],
   "source": [
    "rf_model = RandomForestRegressor().fit(X_train, y_train)\n",
    "# gb_model.score(X_test, y_test)\n",
    "mean_squared_error(y_train, rf_model.predict(X_train)), mean_squared_error(y_test, rf_model.predict(X_test))"
   ]
  },
  {
   "cell_type": "code",
   "execution_count": 813,
   "metadata": {},
   "outputs": [
    {
     "data": {
      "text/plain": [
       "0.8796727672323396"
      ]
     },
     "execution_count": 813,
     "metadata": {},
     "output_type": "execute_result"
    }
   ],
   "source": [
    "gb_model.score(X_train, y_train)\n"
   ]
  },
  {
   "cell_type": "code",
   "execution_count": 814,
   "metadata": {},
   "outputs": [
    {
     "data": {
      "text/plain": [
       "0.6946131120305912"
      ]
     },
     "execution_count": 814,
     "metadata": {},
     "output_type": "execute_result"
    }
   ],
   "source": [
    "gb_model.score(X_test, y_test)"
   ]
  },
  {
   "cell_type": "code",
   "execution_count": 815,
   "metadata": {},
   "outputs": [
    {
     "data": {
      "text/plain": [
       "(22.481709475758336, 2.268183545279389)"
      ]
     },
     "execution_count": 815,
     "metadata": {},
     "output_type": "execute_result"
    }
   ],
   "source": [
    "ridge_model = Ridge().fit(X_train, y_train)\n",
    "# ols_model.score(X_test, y_test)\n",
    "mean_squared_error(y_train, ridge_model.predict(X_train)), mean_squared_error(y_test, ridge_model.predict(X_test))"
   ]
  },
  {
   "cell_type": "code",
   "execution_count": 816,
   "metadata": {},
   "outputs": [
    {
     "data": {
      "text/html": [
       "<div>\n",
       "<style scoped>\n",
       "    .dataframe tbody tr th:only-of-type {\n",
       "        vertical-align: middle;\n",
       "    }\n",
       "\n",
       "    .dataframe tbody tr th {\n",
       "        vertical-align: top;\n",
       "    }\n",
       "\n",
       "    .dataframe thead th {\n",
       "        text-align: right;\n",
       "    }\n",
       "</style>\n",
       "<table border=\"1\" class=\"dataframe\">\n",
       "  <thead>\n",
       "    <tr style=\"text-align: right;\">\n",
       "      <th></th>\n",
       "      <th>feature</th>\n",
       "      <th>importance</th>\n",
       "    </tr>\n",
       "  </thead>\n",
       "  <tbody>\n",
       "    <tr>\n",
       "      <td>49</td>\n",
       "      <td>eigenvector_centrality</td>\n",
       "      <td>0.350074</td>\n",
       "    </tr>\n",
       "    <tr>\n",
       "      <td>36</td>\n",
       "      <td>PushEvent</td>\n",
       "      <td>0.18414</td>\n",
       "    </tr>\n",
       "    <tr>\n",
       "      <td>50</td>\n",
       "      <td>degree_centrality</td>\n",
       "      <td>0.173338</td>\n",
       "    </tr>\n",
       "    <tr>\n",
       "      <td>48</td>\n",
       "      <td>WatchEvent</td>\n",
       "      <td>0.13839</td>\n",
       "    </tr>\n",
       "    <tr>\n",
       "      <td>51</td>\n",
       "      <td>users_total_degree_centrality</td>\n",
       "      <td>0.091079</td>\n",
       "    </tr>\n",
       "    <tr>\n",
       "      <td>11</td>\n",
       "      <td>ForkEvent</td>\n",
       "      <td>0.0576259</td>\n",
       "    </tr>\n",
       "    <tr>\n",
       "      <td>19</td>\n",
       "      <td>IssuesEvent</td>\n",
       "      <td>0.00240091</td>\n",
       "    </tr>\n",
       "    <tr>\n",
       "      <td>18</td>\n",
       "      <td>IssueCommentEvent</td>\n",
       "      <td>0.0023183</td>\n",
       "    </tr>\n",
       "    <tr>\n",
       "      <td>4</td>\n",
       "      <td>CreateEvent</td>\n",
       "      <td>0.000426367</td>\n",
       "    </tr>\n",
       "    <tr>\n",
       "      <td>33</td>\n",
       "      <td>PullRequestEvent</td>\n",
       "      <td>0.000101155</td>\n",
       "    </tr>\n",
       "    <tr>\n",
       "      <td>2</td>\n",
       "      <td>CommitCommentEvent</td>\n",
       "      <td>6.82271e-05</td>\n",
       "    </tr>\n",
       "    <tr>\n",
       "      <td>5</td>\n",
       "      <td>DeleteEvent</td>\n",
       "      <td>3.74041e-05</td>\n",
       "    </tr>\n",
       "    <tr>\n",
       "      <td>31</td>\n",
       "      <td>ProjectEvent</td>\n",
       "      <td>0</td>\n",
       "    </tr>\n",
       "    <tr>\n",
       "      <td>34</td>\n",
       "      <td>PullRequestReviewEvent</td>\n",
       "      <td>0</td>\n",
       "    </tr>\n",
       "    <tr>\n",
       "      <td>35</td>\n",
       "      <td>PullRequestReviewCommentEvent</td>\n",
       "      <td>0</td>\n",
       "    </tr>\n",
       "    <tr>\n",
       "      <td>37</td>\n",
       "      <td>RegistryPackageEvent</td>\n",
       "      <td>0</td>\n",
       "    </tr>\n",
       "    <tr>\n",
       "      <td>38</td>\n",
       "      <td>ReleaseEvent</td>\n",
       "      <td>0</td>\n",
       "    </tr>\n",
       "    <tr>\n",
       "      <td>32</td>\n",
       "      <td>PublicEvent</td>\n",
       "      <td>0</td>\n",
       "    </tr>\n",
       "    <tr>\n",
       "      <td>42</td>\n",
       "      <td>RepositoryVulnerabilityAlertEvent</td>\n",
       "      <td>0</td>\n",
       "    </tr>\n",
       "    <tr>\n",
       "      <td>39</td>\n",
       "      <td>RepositoryDispatchEvent</td>\n",
       "      <td>0</td>\n",
       "    </tr>\n",
       "    <tr>\n",
       "      <td>40</td>\n",
       "      <td>RepositoryEvent</td>\n",
       "      <td>0</td>\n",
       "    </tr>\n",
       "    <tr>\n",
       "      <td>41</td>\n",
       "      <td>RepositoryImportEvent</td>\n",
       "      <td>0</td>\n",
       "    </tr>\n",
       "    <tr>\n",
       "      <td>29</td>\n",
       "      <td>ProjectCardEvent</td>\n",
       "      <td>0</td>\n",
       "    </tr>\n",
       "    <tr>\n",
       "      <td>43</td>\n",
       "      <td>SecurityAdvisoryEvent</td>\n",
       "      <td>0</td>\n",
       "    </tr>\n",
       "    <tr>\n",
       "      <td>44</td>\n",
       "      <td>StarEvent</td>\n",
       "      <td>0</td>\n",
       "    </tr>\n",
       "    <tr>\n",
       "      <td>45</td>\n",
       "      <td>StatusEvent</td>\n",
       "      <td>0</td>\n",
       "    </tr>\n",
       "    <tr>\n",
       "      <td>46</td>\n",
       "      <td>TeamEvent</td>\n",
       "      <td>0</td>\n",
       "    </tr>\n",
       "    <tr>\n",
       "      <td>47</td>\n",
       "      <td>TeamAddEvent</td>\n",
       "      <td>0</td>\n",
       "    </tr>\n",
       "    <tr>\n",
       "      <td>30</td>\n",
       "      <td>ProjectColumnEvent</td>\n",
       "      <td>0</td>\n",
       "    </tr>\n",
       "    <tr>\n",
       "      <td>0</td>\n",
       "      <td>CheckRunEvent</td>\n",
       "      <td>0</td>\n",
       "    </tr>\n",
       "    <tr>\n",
       "      <td>28</td>\n",
       "      <td>PageBuildEvent</td>\n",
       "      <td>0</td>\n",
       "    </tr>\n",
       "    <tr>\n",
       "      <td>27</td>\n",
       "      <td>OrgBlockEvent</td>\n",
       "      <td>0</td>\n",
       "    </tr>\n",
       "    <tr>\n",
       "      <td>3</td>\n",
       "      <td>ContentReferenceEvent</td>\n",
       "      <td>0</td>\n",
       "    </tr>\n",
       "    <tr>\n",
       "      <td>6</td>\n",
       "      <td>DeployKeyEvent</td>\n",
       "      <td>0</td>\n",
       "    </tr>\n",
       "    <tr>\n",
       "      <td>7</td>\n",
       "      <td>DeploymentEvent</td>\n",
       "      <td>0</td>\n",
       "    </tr>\n",
       "    <tr>\n",
       "      <td>8</td>\n",
       "      <td>DeploymentStatusEvent</td>\n",
       "      <td>0</td>\n",
       "    </tr>\n",
       "    <tr>\n",
       "      <td>9</td>\n",
       "      <td>DownloadEvent</td>\n",
       "      <td>0</td>\n",
       "    </tr>\n",
       "    <tr>\n",
       "      <td>10</td>\n",
       "      <td>FollowEvent</td>\n",
       "      <td>0</td>\n",
       "    </tr>\n",
       "    <tr>\n",
       "      <td>12</td>\n",
       "      <td>ForkApplyEvent</td>\n",
       "      <td>0</td>\n",
       "    </tr>\n",
       "    <tr>\n",
       "      <td>13</td>\n",
       "      <td>GitHubAppAuthorizationEvent</td>\n",
       "      <td>0</td>\n",
       "    </tr>\n",
       "    <tr>\n",
       "      <td>14</td>\n",
       "      <td>GistEvent</td>\n",
       "      <td>0</td>\n",
       "    </tr>\n",
       "    <tr>\n",
       "      <td>15</td>\n",
       "      <td>GollumEvent</td>\n",
       "      <td>0</td>\n",
       "    </tr>\n",
       "    <tr>\n",
       "      <td>16</td>\n",
       "      <td>InstallationEvent</td>\n",
       "      <td>0</td>\n",
       "    </tr>\n",
       "    <tr>\n",
       "      <td>17</td>\n",
       "      <td>InstallationRepositoriesEvent</td>\n",
       "      <td>0</td>\n",
       "    </tr>\n",
       "    <tr>\n",
       "      <td>20</td>\n",
       "      <td>LabelEvent</td>\n",
       "      <td>0</td>\n",
       "    </tr>\n",
       "    <tr>\n",
       "      <td>21</td>\n",
       "      <td>MarketplacePurchaseEvent</td>\n",
       "      <td>0</td>\n",
       "    </tr>\n",
       "    <tr>\n",
       "      <td>22</td>\n",
       "      <td>MemberEvent</td>\n",
       "      <td>0</td>\n",
       "    </tr>\n",
       "    <tr>\n",
       "      <td>23</td>\n",
       "      <td>MembershipEvent</td>\n",
       "      <td>0</td>\n",
       "    </tr>\n",
       "    <tr>\n",
       "      <td>24</td>\n",
       "      <td>MetaEvent</td>\n",
       "      <td>0</td>\n",
       "    </tr>\n",
       "    <tr>\n",
       "      <td>25</td>\n",
       "      <td>MilestoneEvent</td>\n",
       "      <td>0</td>\n",
       "    </tr>\n",
       "    <tr>\n",
       "      <td>1</td>\n",
       "      <td>CheckSuiteEvent</td>\n",
       "      <td>0</td>\n",
       "    </tr>\n",
       "    <tr>\n",
       "      <td>26</td>\n",
       "      <td>OrganizationEvent</td>\n",
       "      <td>0</td>\n",
       "    </tr>\n",
       "  </tbody>\n",
       "</table>\n",
       "</div>"
      ],
      "text/plain": [
       "                              feature   importance\n",
       "49             eigenvector_centrality     0.350074\n",
       "36                          PushEvent      0.18414\n",
       "50                  degree_centrality     0.173338\n",
       "48                         WatchEvent      0.13839\n",
       "51      users_total_degree_centrality     0.091079\n",
       "11                          ForkEvent    0.0576259\n",
       "19                        IssuesEvent   0.00240091\n",
       "18                  IssueCommentEvent    0.0023183\n",
       "4                         CreateEvent  0.000426367\n",
       "33                   PullRequestEvent  0.000101155\n",
       "2                  CommitCommentEvent  6.82271e-05\n",
       "5                         DeleteEvent  3.74041e-05\n",
       "31                       ProjectEvent            0\n",
       "34             PullRequestReviewEvent            0\n",
       "35      PullRequestReviewCommentEvent            0\n",
       "37               RegistryPackageEvent            0\n",
       "38                       ReleaseEvent            0\n",
       "32                        PublicEvent            0\n",
       "42  RepositoryVulnerabilityAlertEvent            0\n",
       "39            RepositoryDispatchEvent            0\n",
       "40                    RepositoryEvent            0\n",
       "41              RepositoryImportEvent            0\n",
       "29                   ProjectCardEvent            0\n",
       "43              SecurityAdvisoryEvent            0\n",
       "44                          StarEvent            0\n",
       "45                        StatusEvent            0\n",
       "46                          TeamEvent            0\n",
       "47                       TeamAddEvent            0\n",
       "30                 ProjectColumnEvent            0\n",
       "0                       CheckRunEvent            0\n",
       "28                     PageBuildEvent            0\n",
       "27                      OrgBlockEvent            0\n",
       "3               ContentReferenceEvent            0\n",
       "6                      DeployKeyEvent            0\n",
       "7                     DeploymentEvent            0\n",
       "8               DeploymentStatusEvent            0\n",
       "9                       DownloadEvent            0\n",
       "10                        FollowEvent            0\n",
       "12                     ForkApplyEvent            0\n",
       "13        GitHubAppAuthorizationEvent            0\n",
       "14                          GistEvent            0\n",
       "15                        GollumEvent            0\n",
       "16                  InstallationEvent            0\n",
       "17      InstallationRepositoriesEvent            0\n",
       "20                         LabelEvent            0\n",
       "21           MarketplacePurchaseEvent            0\n",
       "22                        MemberEvent            0\n",
       "23                    MembershipEvent            0\n",
       "24                          MetaEvent            0\n",
       "25                     MilestoneEvent            0\n",
       "1                     CheckSuiteEvent            0\n",
       "26                  OrganizationEvent            0"
      ]
     },
     "execution_count": 816,
     "metadata": {},
     "output_type": "execute_result"
    }
   ],
   "source": [
    "feature_importances = pd.DataFrame((X_train.columns, gb_model.feature_importances_)).T\n",
    "feature_importances.columns =  ['feature', 'importance']\n",
    "feature_importances = feature_importances.sort_values(by = 'importance', ascending = False)\n",
    "feature_importances"
   ]
  },
  {
   "cell_type": "code",
   "execution_count": null,
   "metadata": {},
   "outputs": [],
   "source": []
  }
 ],
 "metadata": {
  "kernelspec": {
   "display_name": "Python (mit)",
   "language": "python",
   "name": "mit"
  },
  "language_info": {
   "codemirror_mode": {
    "name": "ipython",
    "version": 3
   },
   "file_extension": ".py",
   "mimetype": "text/x-python",
   "name": "python",
   "nbconvert_exporter": "python",
   "pygments_lexer": "ipython3",
   "version": "3.7.4"
  }
 },
 "nbformat": 4,
 "nbformat_minor": 2
}
